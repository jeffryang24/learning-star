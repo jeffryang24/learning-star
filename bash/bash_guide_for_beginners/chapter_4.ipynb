{
 "cells": [
  {
   "cell_type": "markdown",
   "metadata": {},
   "source": [
    "# Chapter 4 Exercise Answer*\n",
    "\n",
    "#### \\*) all answers are not checked, please make a pull request if the answer is incorrect."
   ]
  },
  {
   "cell_type": "markdown",
   "metadata": {},
   "source": [
    "## No. 1"
   ]
  },
  {
   "cell_type": "code",
   "execution_count": null,
   "metadata": {},
   "outputs": [],
   "source": [
    "echo \"All users who login using bash shell: \"\n",
    "grep 'bash\\>' /etc/passwd | cut -d ':' -f 1"
   ]
  },
  {
   "cell_type": "markdown",
   "metadata": {},
   "source": [
    "## No. 2 and No. 3"
   ]
  },
  {
   "cell_type": "code",
   "execution_count": null,
   "metadata": {},
   "outputs": [],
   "source": [
    "echo \"from /etc/group, display all lines starting with 'daemon'\"\n",
    "\n",
    "# /etc/group is a file, not a directory.\n",
    "grep '^daemon' /etc/group"
   ]
  },
  {
   "cell_type": "code",
   "execution_count": null,
   "metadata": {},
   "outputs": [],
   "source": [
    "# Now display the inverse\n",
    "grep -v '^daemon' /etc/group"
   ]
  },
  {
   "cell_type": "markdown",
   "metadata": {},
   "source": [
    "## No. 4"
   ]
  },
  {
   "cell_type": "code",
   "execution_count": null,
   "metadata": {},
   "outputs": [],
   "source": [
    "echo \"Show localhost information from /etc/host\"\n",
    "grep -n 'localhost' /etc/hosts\n",
    "echo \"There are $(grep -c 'localhost' /etc/hosts) occurence(s)\""
   ]
  },
  {
   "cell_type": "markdown",
   "metadata": {},
   "source": [
    "## No. 5"
   ]
  },
  {
   "cell_type": "code",
   "execution_count": null,
   "metadata": {},
   "outputs": [],
   "source": [
    "echo \"Show list of /usr/share/doc subdirectories containing information about shell\"\n",
    "ls -lRd /usr/share/doc/* | grep 'bash/\\|dash/\\|ksh/\\|fish/'"
   ]
  },
  {
   "cell_type": "markdown",
   "metadata": {},
   "source": [
    "## No. 6"
   ]
  },
  {
   "cell_type": "code",
   "execution_count": null,
   "metadata": {},
   "outputs": [],
   "source": [
    "echo \"Number of 'README' inside /usr/share/doc subdirectories:\"\n",
    "ls -R /usr/share/doc | grep -c ^README$"
   ]
  },
  {
   "cell_type": "markdown",
   "metadata": {},
   "source": [
    "## No. 7\n",
    "\n",
    "Hmm.. I try many ways using ls and grep, but finally it needs using `awk` to filter the modified date.\n",
    "Thanks for [@janos](https://stackoverflow.com/users/641955/janos) from this [thread](https://stackoverflow.com/questions/17508812/use-grep-to-list-the-files-a-directory-that-were-changed-less-that-10-hours-ago) which gives me some inspiration about `awk`."
   ]
  },
  {
   "cell_type": "code",
   "execution_count": null,
   "metadata": {},
   "outputs": [],
   "source": [
    "echo \"List of files in your home directory that were changed less that 10 hours ago\"\n",
    "# List all recursive with latest modified time, format the modified time to epoch second \n",
    "ls -laRt --time-style=\"+%s\" ~ | \\\n",
    "# Remove result which is directory\n",
    "grep ^[^d] | \\\n",
    "# Remove total from result\n",
    "grep -v total | \\\n",
    "# Filter using awk and print it\n",
    "awk -v filter=$(date -d '10 hours ago' +%s) '$6 > filter { print $6, $7 }'"
   ]
  },
  {
   "cell_type": "markdown",
   "metadata": {},
   "source": [
    "## No. 8\n",
    "\n",
    "Already done using above cell."
   ]
  },
  {
   "cell_type": "markdown",
   "metadata": {},
   "source": [
    "## No. 9"
   ]
  },
  {
   "cell_type": "code",
   "execution_count": null,
   "metadata": {},
   "outputs": [],
   "source": [
    "# wc -l alternative:\n",
    "cat /etc/passwd | wc -l\n",
    "# It can be done using grep -c \"\\n\":\n",
    "cat /etc/passwd | grep -c \"\\n\"\n",
    "# Or using ^ regex:\n",
    "cat /etc/passwd | grep -c ^"
   ]
  },
  {
   "cell_type": "markdown",
   "metadata": {},
   "source": [
    "## No. 10"
   ]
  },
  {
   "cell_type": "code",
   "execution_count": null,
   "metadata": {},
   "outputs": [],
   "source": [
    "# This is only work on linux distribution\n",
    "grep -o \"/dev/sda[[:digit:]]\" /etc/fstab\n",
    "echo \"============================\"\n",
    "# For mingw (Windows), there is no -o option, so\n",
    "grep \"/dev/sda[[:digit:]]\" /etc/fstab | tr ' ' '\\n' | grep \"/dev/sda[[:digit:]]\""
   ]
  },
  {
   "cell_type": "markdown",
   "metadata": {},
   "source": [
    "## No. 11"
   ]
  },
  {
   "cell_type": "code",
   "execution_count": null,
   "metadata": {},
   "outputs": [],
   "source": [
    "USER=\"jeffryangtoni\"\n",
    "grep ${USER} /etc/passwd"
   ]
  },
  {
   "cell_type": "markdown",
   "metadata": {},
   "source": [
    "## No. 12"
   ]
  },
  {
   "cell_type": "code",
   "execution_count": null,
   "metadata": {},
   "outputs": [],
   "source": [
    "# List all dir, files. If you want recursive, add -R option in ls\n",
    "ls -la /etc | \\\n",
    "# Remove dir from result\n",
    "grep ^[^d] | \\\n",
    "# Use awk to print filename only\n",
    "awk '{ print $9 }' | \\\n",
    "# Use grep to find filename with number\n",
    "grep [[:digit:]]"
   ]
  }
 ],
 "metadata": {
  "kernelspec": {
   "display_name": "Bash",
   "language": "bash",
   "name": "bash"
  },
  "language_info": {
   "codemirror_mode": "shell",
   "file_extension": ".sh",
   "mimetype": "text/x-sh",
   "name": "bash"
  }
 },
 "nbformat": 4,
 "nbformat_minor": 2
}
