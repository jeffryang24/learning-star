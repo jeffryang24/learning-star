{
 "cells": [
  {
   "cell_type": "markdown",
   "metadata": {},
   "source": [
    "# Chapter 1 Exercise Answer*\n",
    "\n",
    "#### \\*) all answers are not checked, please make a pull request if the answer is incorrect."
   ]
  },
  {
   "cell_type": "markdown",
   "metadata": {},
   "source": [
    "## No. 1"
   ]
  },
  {
   "cell_type": "code",
   "execution_count": 1,
   "metadata": {
    "scrolled": true
   },
   "outputs": [
    {
     "name": "stdout",
     "output_type": "stream",
     "text": [
      "Bash is located at: /usr/bin/bash\n"
     ]
    }
   ],
   "source": [
    "echo \"Bash is located at: $(which bash)\""
   ]
  },
  {
   "cell_type": "markdown",
   "metadata": {},
   "source": [
    "## No. 2\n",
    "\n",
    "It can be used $BASH_VERSION, but we need to use --version, so:"
   ]
  },
  {
   "cell_type": "code",
   "execution_count": 2,
   "metadata": {},
   "outputs": [
    {
     "name": "stdout",
     "output_type": "stream",
     "text": [
      "My bash version is: 4.4.19(1)-release\n"
     ]
    }
   ],
   "source": [
    "MY_BASH_VERSION=\"$(bash --version | head -n 1 | cut -d ' ' -f 4)\"\n",
    "echo \"My bash version is: ${MY_BASH_VERSION}\""
   ]
  },
  {
   "cell_type": "markdown",
   "metadata": {},
   "source": [
    "## No. 3\n",
    "\n",
    "When login to the system using GUI then open the terminal windows. I think it will read the `~/.bashrc` file because terminal windows is an interactive non-login shell."
   ]
  },
  {
   "cell_type": "markdown",
   "metadata": {},
   "source": [
    "## No. 4\n",
    "\n",
    "- Interactive non-login\n",
    "- Interactive login\n",
    "- Interactive login\n",
    "- Non-interactive non-login\n",
    "- Non-interactive non-login\n",
    "- Interactive login"
   ]
  },
  {
   "cell_type": "markdown",
   "metadata": {},
   "source": [
    "## No. 5\n",
    "\n",
    "Because `SIGINT` is catched and handled properly, so the command line doesn't exit."
   ]
  },
  {
   "cell_type": "markdown",
   "metadata": {},
   "source": [
    "## No. 6\n",
    "\n",
    "Using `pushd`, `popd`, and `dirs -v|-c` commands."
   ]
  },
  {
   "cell_type": "markdown",
   "metadata": {},
   "source": [
    "## No. 7"
   ]
  },
  {
   "cell_type": "code",
   "execution_count": null,
   "metadata": {},
   "outputs": [],
   "source": [
    "export PS1=\"\\u@\\h \\w> \""
   ]
  },
  {
   "cell_type": "markdown",
   "metadata": {},
   "source": [
    "## No. 8"
   ]
  },
  {
   "cell_type": "code",
   "execution_count": 3,
   "metadata": {},
   "outputs": [
    {
     "name": "stdout",
     "output_type": "stream",
     "text": [
      "hash: hash table empty\n"
     ]
    }
   ],
   "source": [
    "hash"
   ]
  },
  {
   "cell_type": "markdown",
   "metadata": {},
   "source": [
    "## No. 9"
   ]
  },
  {
   "cell_type": "code",
   "execution_count": 4,
   "metadata": {},
   "outputs": [
    {
     "name": "stdout",
     "output_type": "stream",
     "text": [
      "3\n"
     ]
    }
   ],
   "source": [
    "ps --no-headers | wc -l"
   ]
  },
  {
   "cell_type": "markdown",
   "metadata": {},
   "source": [
    "## No. 10"
   ]
  },
  {
   "cell_type": "code",
   "execution_count": 5,
   "metadata": {},
   "outputs": [
    {
     "name": "stdout",
     "output_type": "stream",
     "text": [
      "Christine\n"
     ]
    }
   ],
   "source": [
    "echo $HOSTNAME"
   ]
  }
 ],
 "metadata": {
  "kernelspec": {
   "display_name": "Bash",
   "language": "bash",
   "name": "bash"
  },
  "language_info": {
   "codemirror_mode": "shell",
   "file_extension": ".sh",
   "mimetype": "text/x-sh",
   "name": "bash"
  }
 },
 "nbformat": 4,
 "nbformat_minor": 2
}
