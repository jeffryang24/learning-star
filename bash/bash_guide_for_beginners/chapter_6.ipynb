{
 "cells": [
  {
   "cell_type": "markdown",
   "metadata": {},
   "source": [
    "# Chapter 6 Exercise Answer*\n",
    "\n",
    "#### \\*) all answers are not checked, please make a pull request if the answer is incorrect."
   ]
  },
  {
   "cell_type": "markdown",
   "metadata": {},
   "source": [
    "## No. 1\n",
    "\n",
    "Let's create a file with following format.\n",
    "\n",
    "`Username:Firstname:Lastname:Telephone number`\n",
    "\n",
    "We will use `awk` to convert these file into LDAP record."
   ]
  },
  {
   "cell_type": "code",
   "execution_count": 1,
   "metadata": {},
   "outputs": [
    {
     "name": "stdout",
     "output_type": "stream",
     "text": [
      "Username:Firstname:Lastname:Telephone number\n",
      "tonystink:Tony:Stink:8787878\n",
      "laura334:Laura:Romanov:998943\n",
      "hawkeagle:Hawk:Eagle:23454353\n",
      "\n",
      "dn: uid=tonystink, dc=example, dc=com\n",
      "cn: Tony Stink\n",
      "sn: Stink\n",
      "telephoneNumber: 8787878\n",
      "\n",
      "dn: uid=laura334, dc=example, dc=com\n",
      "cn: Laura Romanov\n",
      "sn: Romanov\n",
      "telephoneNumber: 998943\n",
      "\n",
      "dn: uid=hawkeagle, dc=example, dc=com\n",
      "cn: Hawk Eagle\n",
      "sn: Eagle\n",
      "telephoneNumber: 23454353\n",
      "\n"
     ]
    }
   ],
   "source": [
    "# Create dummy files\n",
    "tee tmp_contact << EOF\n",
    "Username:Firstname:Lastname:Telephone number\n",
    "tonystink:Tony:Stink:8787878\n",
    "laura334:Laura:Romanov:998943\n",
    "hawkeagle:Hawk:Eagle:23454353\n",
    "EOF\n",
    "\n",
    "# Construct that file into LDAP record\n",
    "echo \"\"\n",
    "cat tmp_contact | tail -n +2 | \\\n",
    "awk 'BEGIN { FS=\":\" }\n",
    "{ print \"dn: uid=\" $1 \", dc=example, dc=com\" }\n",
    "{ print \"cn: \" $2, $3 }\n",
    "{ print \"sn: \" $3 }\n",
    "{ print \"telephoneNumber: \" $4 \"\\n\" }'"
   ]
  },
  {
   "cell_type": "markdown",
   "metadata": {},
   "source": [
    "## No. 2"
   ]
  },
  {
   "cell_type": "code",
   "execution_count": null,
   "metadata": {},
   "outputs": [],
   "source": [
    "# create mail automation about partition usage\n",
    "df -h / | grep /dev/sda | \\\n",
    "awk '{ print \"Your partition daily report\\n===========================\" }\n",
    "{ print \"Mounted directory: \" $6 }\n",
    "{ print \"Used space: \" $3 }\n",
    "{ print \"Free space: \" $4 }' #| mail -s \"Disk space usage\" \\<jeffryangtoni24@gmail.com\\>"
   ]
  },
  {
   "cell_type": "markdown",
   "metadata": {},
   "source": [
    "## No. 3\n",
    "\n",
    "We will convert text to xml."
   ]
  },
  {
   "cell_type": "code",
   "execution_count": 2,
   "metadata": {},
   "outputs": [
    {
     "name": "stdout",
     "output_type": "stream",
     "text": [
      "Meaning very long line with a lot of description\n",
      " \n",
      "meaning another long line\n",
      " \n",
      "othermeaning    more longline\n",
      " \n",
      "testmeaning     looooooooooooooooooooooooooooooooooooooooooooooooooooooooooooooooooong line, but i mean really looooooooooooooooooooooooooooooooooooooooooooooooooong.\n",
      "BEGIN { FS=\"[ \\t]+\" }\n",
      "NF > 0 && $1 != \"\" { print \"<row>\\n<entry>\" $1 \"</entry>\"; $1=\"\"; print \"<entry>\" substr($0, 2) \"</entry>\\n</row>\" }\n",
      "\n",
      "<row>\n",
      "<entry>Meaning</entry>\n",
      "<entry>very long line with a lot of description</entry>\n",
      "</row>\n",
      "<row>\n",
      "<entry>meaning</entry>\n",
      "<entry>another long line</entry>\n",
      "</row>\n",
      "<row>\n",
      "<entry>othermeaning</entry>\n",
      "<entry>more longline</entry>\n",
      "</row>\n",
      "<row>\n",
      "<entry>testmeaning</entry>\n",
      "<entry>looooooooooooooooooooooooooooooooooooooooooooooooooooooooooooooooooong line, but i mean really looooooooooooooooooooooooooooooooooooooooooooooooooong.</entry>\n",
      "</row>\n"
     ]
    }
   ],
   "source": [
    "# Create dummy text\n",
    "tee tmp_dummyTxt << EOF\n",
    "Meaning very long line with a lot of description\n",
    " \n",
    "meaning another long line\n",
    " \n",
    "othermeaning    more longline\n",
    " \n",
    "testmeaning     looooooooooooooooooooooooooooooooooooooooooooooooooooooooooooooooooong line, but i mean really looooooooooooooooooooooooooooooooooooooooooooooooooong.\n",
    "EOF\n",
    "\n",
    "# Create awk script to convert it.\n",
    "# Use NF > 0 and $1 != \"\" for ignoring blank line\n",
    "# Use substr($0, 2) to print sentence from second character, cause first character will be the OFS.\n",
    "tee tmp_xmlConvert.awk << EOF\n",
    "BEGIN { FS=\"[ \\t]+\" }\n",
    "NF > 0 && \\$1 != \"\" { print \"<row>\\n<entry>\" \\$1 \"</entry>\"; \\$1=\"\"; print \"<entry>\" substr(\\$0, 2) \"</entry>\\n</row>\" }\n",
    "EOF"
   ]
  },
  {
   "cell_type": "code",
   "execution_count": null,
   "metadata": {},
   "outputs": [],
   "source": [
    "# Test it\n",
    "echo \"\"\n",
    "awk -f tmp_xmlConvert.awk tmp_dummyTxt"
   ]
  },
  {
   "cell_type": "markdown",
   "metadata": {},
   "source": [
    "To remove `tmp_contact`, `tmp_dummyText`, `tmp_xmlConvert.awk`, please use below script."
   ]
  },
  {
   "cell_type": "code",
   "execution_count": 3,
   "metadata": {},
   "outputs": [],
   "source": [
    "rm tmp_contact tmp_dummyTxt tmp_xmlConvert.awk"
   ]
  }
 ],
 "metadata": {
  "kernelspec": {
   "display_name": "Bash",
   "language": "bash",
   "name": "bash"
  },
  "language_info": {
   "codemirror_mode": "shell",
   "file_extension": ".sh",
   "mimetype": "text/x-sh",
   "name": "bash"
  }
 },
 "nbformat": 4,
 "nbformat_minor": 2
}
