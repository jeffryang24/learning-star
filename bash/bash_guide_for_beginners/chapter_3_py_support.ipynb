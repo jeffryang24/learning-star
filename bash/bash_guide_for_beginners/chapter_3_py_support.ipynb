{
 "cells": [
  {
   "cell_type": "markdown",
   "metadata": {},
   "source": [
    "# Chapter 3 - python support\n",
    "\n",
    "We will need some help from python to do our favour."
   ]
  },
  {
   "cell_type": "code",
   "execution_count": 1,
   "metadata": {},
   "outputs": [],
   "source": [
    "import getpass\n",
    "import subprocess\n",
    "import os\n",
    "import shlex"
   ]
  },
  {
   "cell_type": "code",
   "execution_count": 2,
   "metadata": {},
   "outputs": [],
   "source": [
    "# Declare variables here\n",
    "CURRENT_DIR = os.getcwd()\n",
    "ETC_PROFILE = \"tmp_profile\" # This is a file\n",
    "SKEL_DIR = \"tmp_skel\" # This is a directory"
   ]
  },
  {
   "cell_type": "code",
   "execution_count": 3,
   "metadata": {},
   "outputs": [
    {
     "name": "stdout",
     "output_type": "stream",
     "text": [
      "········\n"
     ]
    }
   ],
   "source": [
    "# Type your username's password here.\n",
    "user_password = getpass.getpass()"
   ]
  },
  {
   "cell_type": "code",
   "execution_count": 4,
   "metadata": {},
   "outputs": [
    {
     "name": "stdout",
     "output_type": "stream",
     "text": [
      "Operation Complete! Successfully copying all these files and directory.\n",
      "Operation Complete! Successfully taking ownership from root.\n",
      "Now you can step back to your old notebook.\n"
     ]
    }
   ],
   "source": [
    "# Let's copy the /etc/profile and /etc/skel to your notebook's directory\n",
    "cp_profile_cmd = f\"echo {shlex.quote(user_password)} | \\\n",
    "                sudo -S cp /etc/profile {CURRENT_DIR}/{ETC_PROFILE} && \\\n",
    "                sudo -S cp -r /etc/skel {CURRENT_DIR}/{SKEL_DIR}\"\n",
    "cp_profile = subprocess.run(cp_profile_cmd, shell=True, stdout=subprocess.PIPE, stderr=subprocess.STDOUT)\n",
    "\n",
    "if cp_profile.returncode != 0:\n",
    "    print(f\"Failed to copy /etc/profile and /etc/skel to {CURRENT_DIR}\")\n",
    "    print(\"==========================\")\n",
    "    print(cp_profile.stdout.decode('utf-8'))\n",
    "else:\n",
    "    print(\"Operation Complete! Successfully copying all these files and directory.\")\n",
    "    \n",
    "    # Now, takes the ownership comrade!!\n",
    "    current_uid = os.geteuid()\n",
    "    take_owner_cmd = f\"echo {shlex.quote(user_password)} | \\\n",
    "                    sudo -S chown -R {current_uid}:{current_uid} {shlex.quote(ETC_PROFILE)} {shlex.quote(SKEL_DIR)}\"\n",
    "    take_owner = subprocess.run(take_owner_cmd, shell=True, stdout=subprocess.PIPE, stderr=subprocess.STDOUT)\n",
    "\n",
    "    if take_owner.returncode != 0:\n",
    "        print(f\"Failed to take ownership for /etc/profile and /etc/skel from root\")\n",
    "        print(\"==========================\")\n",
    "        print(take_owner.stdout.decode('utf-8'))\n",
    "    else:\n",
    "        print(\"Operation Complete! Successfully taking ownership from root.\")\n",
    "\n",
    "print(\"Now you can step back to your old notebook.\")\n",
    "    "
   ]
  },
  {
   "cell_type": "markdown",
   "metadata": {},
   "source": [
    "You can remove the folder and files using below command."
   ]
  },
  {
   "cell_type": "code",
   "execution_count": 5,
   "metadata": {},
   "outputs": [],
   "source": [
    "# Recursively remove dir\n",
    "def _rmdir(path):\n",
    "    try:   \n",
    "        for root, dirs, files in os.walk(path, topdown=False):\n",
    "            for file_name in files:\n",
    "                os.remove(os.path.join(root, file_name))\n",
    "            for dir_name in dirs:\n",
    "                os.rmdir(os.path.join(root, dir_name))\n",
    "        \n",
    "        # Now, remove me.\n",
    "        os.rmdir(path)\n",
    "        return 0\n",
    "    except Exception as e:\n",
    "        return -1\n",
    "    \n",
    "def _rmfile(path):\n",
    "    try:\n",
    "        os.remove(path)\n",
    "        return 0\n",
    "    except FileNotFoundError as fe:\n",
    "        return -1\n",
    "    except Exception as e:\n",
    "        return -99"
   ]
  },
  {
   "cell_type": "code",
   "execution_count": 6,
   "metadata": {},
   "outputs": [
    {
     "name": "stdout",
     "output_type": "stream",
     "text": [
      "Successfully removing /etc/skel dir\n",
      "Successfully removing /etc/profile\n"
     ]
    }
   ],
   "source": [
    "rm_skell_dir = _rmdir(f\"./{SKEL_DIR}\")\n",
    "rm_profile = _rmfile(f\"./{ETC_PROFILE}\")\n",
    "\n",
    "print(\"Successfully removing /etc/skel dir\" if rm_skell_dir == 0 \\\n",
    "      else \"Oh no... Failed removing /etc/skel dir.\")\n",
    "print(\"Successfully removing /etc/profile\" if rm_profile == 0 \\\n",
    "      else \"Oh no.. File was gone...\" if rm_profile == 0 \\\n",
    "      else \"Oh no.. ??!??!\")"
   ]
  }
 ],
 "metadata": {
  "kernelspec": {
   "display_name": "Python 3",
   "language": "python",
   "name": "python3"
  },
  "language_info": {
   "codemirror_mode": {
    "name": "ipython",
    "version": 3
   },
   "file_extension": ".py",
   "mimetype": "text/x-python",
   "name": "python",
   "nbconvert_exporter": "python",
   "pygments_lexer": "ipython3",
   "version": "3.6.5"
  }
 },
 "nbformat": 4,
 "nbformat_minor": 2
}
