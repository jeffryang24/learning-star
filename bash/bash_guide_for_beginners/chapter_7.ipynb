{
 "cells": [
  {
   "cell_type": "markdown",
   "metadata": {},
   "source": [
    "# Chapter 7 Exercise Answer*\n",
    "\n",
    "#### \\*) all answers are not checked, please make a pull request if the answer is incorrect."
   ]
  },
  {
   "cell_type": "markdown",
   "metadata": {},
   "source": [
    "## No. 1"
   ]
  },
  {
   "cell_type": "code",
   "execution_count": 1,
   "metadata": {},
   "outputs": [
    {
     "name": "stdout",
     "output_type": "stream",
     "text": [
      "       Mei 18         \n",
      "Mi Se Se Ra Ka Ju Sa  \n",
      " 1  2  3  4  5  6  7  \n",
      " 8  9 10 11 12 13 14  \n",
      "15 16 17 18 19 20 21  \n",
      "22 23 24 25 26 27 28  \n",
      "29 30 31              \n",
      "                      \n",
      "\n",
      "Current Month: Mei\n"
     ]
    }
   ],
   "source": [
    "CURRENT_MONTH=`date +%-m`\n",
    "CURRENT_YEAR=`date +%Y`\n",
    "# For testing only\n",
    "#CURRENT_YEAR=2016\n",
    "IS_LEAP=0 # 1 means true.\n",
    "cal `date '+%m %y'`\n",
    "echo ''\n",
    "echo \"Current Month: `date +%B`\"\n",
    "if [[ ${CURRENT_MONTH} == 2 ]]; then\n",
    "    # Tell about leap year\n",
    "    if (( (${CURRENT_YEAR} % 4 == 0 && ${CURRENT_YEAR} % 100 != 0) || \\\n",
    "    ${CURRENT_YEAR} % 400 == 0 )); then\n",
    "        IS_LEAP=1\n",
    "    else\n",
    "        IS_LEAP=0\n",
    "    fi\n",
    "    \n",
    "    echo \"Current Year is $(if [[ ${IS_LEAP} == 1 ]]; then echo \"leap\"; else echo \"not leap\"; fi)\"\n",
    "fi\n"
   ]
  },
  {
   "cell_type": "markdown",
   "metadata": {},
   "source": [
    "## No. 2"
   ]
  },
  {
   "cell_type": "code",
   "execution_count": 2,
   "metadata": {},
   "outputs": [
    {
     "name": "stdout",
     "output_type": "stream",
     "text": [
      "       Mei 18         \n",
      "Mi Se Se Ra Ka Ju Sa  \n",
      " 1  2  3  4  5  6  7  \n",
      " 8  9 10 11 12 13 14  \n",
      "15 16 17 18 19 20 21  \n",
      "22 23 24 25 26 27 28  \n",
      "29 30 31              \n",
      "                      \n",
      "\n",
      "Current Month: Mei\n",
      "Current Year is marvelous!!!\n"
     ]
    }
   ],
   "source": [
    "# Tell about leap year\n",
    "if (( (${CURRENT_YEAR} % 4 == 0 && ${CURRENT_YEAR} % 100 != 0) || \\\n",
    "${CURRENT_YEAR} % 400 == 0 )); then\n",
    "    IS_LEAP=1\n",
    "else\n",
    "    IS_LEAP=0\n",
    "fi\n",
    "cal `date '+%m %y'`\n",
    "echo ''\n",
    "echo \"Current Month: `date +%B`\"\n",
    "\n",
    "case ${CURRENT_MONTH} in\n",
    "2)\n",
    "echo \"Current Year is $(if [[ ${IS_LEAP} == 1 ]]; then echo \"leap\"; else echo \"not leap\"; fi)\"\n",
    ";;\n",
    "    \n",
    "*)\n",
    "# Prevent history expansion on !! sign. To turn it off, use `set +H`\n",
    "echo \"Current Year is marvelous\"'!!!'\n",
    ";;\n",
    "esac"
   ]
  },
  {
   "cell_type": "markdown",
   "metadata": {},
   "source": [
    "## No. 3\n",
    "\n",
    "The logic is inside these script:\n",
    "\n",
    "**```\n",
    "if [ \"`id -u`\" -eq 0 ]; then\n",
    "  PS1='# '\n",
    "else\n",
    "  PS1='$ '\n",
    "fi\n",
    "```**"
   ]
  },
  {
   "cell_type": "markdown",
   "metadata": {},
   "source": [
    "## No. 4"
   ]
  },
  {
   "cell_type": "code",
   "execution_count": 3,
   "metadata": {},
   "outputs": [
    {
     "name": "stdout",
     "output_type": "stream",
     "text": [
      "#!/usr/bin/env bash\n",
      "# This script will test the year is leap or not?\n",
      "if [[ -z $1 ]]; then\n",
      "    echo \"Usage: tmp_leap.sh [year]\"\n",
      "    exit 1\n",
      "fi\n",
      "\n",
      "year=$1\n",
      "\n",
      "if (( (${year} % 4 == 0 && ${year} % 100 != 0) || ${year} % 400 == 0 )); then\n",
      "    echo \"This is a leap year. Don't forget to charge the extra day.\"\n",
      "else\n",
      "    echo \"This is not a leap year.\"\n",
      "fi\n",
      "==========================\n",
      "This is not a leap year.\n"
     ]
    }
   ],
   "source": [
    "# Create script\n",
    "tee tmp_leap.sh << EOF\n",
    "#!/usr/bin/env bash\n",
    "# This script will test the year is leap or not?\n",
    "if [[ -z \\$1 ]]; then\n",
    "    echo \"Usage: tmp_leap.sh [year]\"\n",
    "    exit 1\n",
    "fi\n",
    "\n",
    "year=\\$1\n",
    "\n",
    "if (( (\\${year} % 4 == 0 && \\${year} % 100 != 0) || \\\n",
    "\\${year} % 400 == 0 )); then\n",
    "    echo \"This is a leap year. Don't forget to charge the extra day.\"\n",
    "else\n",
    "    echo \"This is not a leap year.\"\n",
    "fi\n",
    "EOF\n",
    "\n",
    "# Give +x permission\n",
    "chmod +x tmp_leap.sh"
   ]
  },
  {
   "cell_type": "code",
   "execution_count": null,
   "metadata": {},
   "outputs": [],
   "source": [
    "# Test it\n",
    "echo '=========================='\n",
    "./tmp_leap.sh 2018"
   ]
  },
  {
   "cell_type": "markdown",
   "metadata": {},
   "source": [
    "## No. 5"
   ]
  },
  {
   "cell_type": "code",
   "execution_count": 4,
   "metadata": {},
   "outputs": [
    {
     "name": "stdout",
     "output_type": "stream",
     "text": [
      "#!/usr/bin/env bash\n",
      "# Check whether httpd is running or not?\n",
      "# I use nginx, so i write nginx\n",
      "if ps aux | grep nginx | grep -v grep > /dev/null; then\n",
      "    echo \"This machine is running a web server.\"\n",
      "fi\n",
      "\n",
      "ps aux | grep init | grep -v grep > /dev/null\n",
      "if [[ 0 -eq 0 ]]; then\n",
      "    echo \"This machine is using init.\"\n",
      "fi\n",
      "=========================\n",
      "This machine is running a web server.\n",
      "This machine is using init.\n"
     ]
    }
   ],
   "source": [
    "# Create a script.\n",
    "tee tmp_whichdaemon.sh << EOF\n",
    "#!/usr/bin/env bash\n",
    "# Check whether httpd is running or not?\n",
    "# I use nginx, so i write nginx\n",
    "if ps aux | grep nginx | grep -v grep > /dev/null; then\n",
    "    echo \"This machine is running a web server.\"\n",
    "fi\n",
    "\n",
    "ps aux | grep init | grep -v grep > /dev/null\n",
    "if [[ $? -eq 0 ]]; then\n",
    "    echo \"This machine is using init.\"\n",
    "fi\n",
    "EOF\n",
    "\n",
    "# Give +x permission\n",
    "chmod +x tmp_whichdaemon.sh"
   ]
  },
  {
   "cell_type": "code",
   "execution_count": null,
   "metadata": {},
   "outputs": [],
   "source": [
    "# Test it\n",
    "echo '========================='\n",
    "./tmp_whichdaemon.sh"
   ]
  },
  {
   "cell_type": "markdown",
   "metadata": {},
   "source": [
    "## No. 6\n",
    "\n",
    "It needs a ssh server on client machine, so we can test using our own ssh server. I just provide the script to do the task:\n",
    "\n",
    "**`scp -i ~/.ssh/id_rsa jeffryangtoni@eternalbox:~/~/sources/github/sh-projects/bash-tut/bash_guide_for_beginners/chapter_1.ipynb jeffryangtoni@eternalbox:~/~/sources/github/sh-projects/bash-tut/bash_guide_for_beginners/chapter_1.ipynb.cp`**"
   ]
  },
  {
   "cell_type": "markdown",
   "metadata": {},
   "source": [
    "## No. 7\n",
    "\n",
    "Same as No. 6, I just provide the script to create the tar.gz archive:\n",
    "\n",
    "```bash\n",
    "#!/usr/bin/env bash\n",
    "#This script does a very simple test for checking disk space.\n",
    "\n",
    "space=`df -h | awk '{print $5}' | grep % | grep -v Use | sort -n | tail -1 | cut -d \"%\" -f1 -`\n",
    "\n",
    "case $space in\n",
    "[1-6]*)\n",
    "  Message=\"All is quiet.\"\n",
    "  ;;\n",
    "[7-8]*)\n",
    "  Message=\"Start thinking about cleaning out some stuff.  There's a partition that is $space % full.\"\n",
    "  ;;\n",
    "9[1-8])\n",
    "  Message=\"Better hurry with that new disk...  One partition is $space % full.\"\n",
    "  ;;\n",
    "99)\n",
    "  Message=\"I'm drowning here!  There's a partition at $space %!\"\n",
    "  ;;\n",
    "*)\n",
    "  Message=\"I seem to be running with an nonexistent amount of disk space...\"\n",
    "  ;;\n",
    "esac\n",
    "\n",
    "BACKUP_FILENAME=\"backup-home-$(date \"+%Y-%m-%d\").tar.gz\"\n",
    "HOST_SERVER=\"/home/$USER\"\n",
    "REMOTE_SERVER=\"remote@host-ip\"\n",
    "\n",
    "if [[ -d ${HOST_SERVER}/backups ]]; then mkdir -p ${HOST_SERVER}/backups; fi\n",
    "if [[ -f ${HOST_SERVER}/backups/${BACKUP_FILENAME} ]]; then rm ${HOST_SERVER}/backups/${BACKUP_FILENAME}; fi\n",
    "\n",
    "# Create archive\n",
    "tar zcvf ${HOST_SERVER}/backups/${BACKUP_FILENAME} ${HOST_SERVER}/* > ${HOST_SERVER}/backup.log 2>&1\n",
    "\n",
    "# Send archive\n",
    "scp -i ${HOST_SERVER}/.ssh/id_rsa ${HOST_SERVER}/backups/${BACKUP_FILENAME} ${REMOTE_SERVER}:/home/backups > ${HOST_SERVER}/backup.log 2>&1\n",
    "\n",
    "# Delete archive\n",
    "rm ${HOST_SERVER}/backups/${BACKUP_FILENAME}\n",
    "\n",
    "echo $Message | mail -s \"disk report `date`\" anny\n",
    "```"
   ]
  },
  {
   "cell_type": "markdown",
   "metadata": {},
   "source": [
    "To remove all scripts generated from this notebook, please use below command."
   ]
  },
  {
   "cell_type": "code",
   "execution_count": 5,
   "metadata": {},
   "outputs": [
    {
     "name": "stdout",
     "output_type": "stream",
     "text": [
      "File tmp_leap.sh has been deleted!\n",
      "File tmp_whichdaemon.sh has been deleted!\n"
     ]
    }
   ],
   "source": [
    "TMP_FILE=('tmp_leap.sh'\n",
    "'tmp_whichdaemon.sh')\n",
    "\n",
    "for i in ${TMP_FILE[@]}; do\n",
    "    rm ${i} && echo \"File ${i} has been deleted!\"\n",
    "done"
   ]
  }
 ],
 "metadata": {
  "kernelspec": {
   "display_name": "Bash",
   "language": "bash",
   "name": "bash"
  },
  "language_info": {
   "codemirror_mode": "shell",
   "file_extension": ".sh",
   "mimetype": "text/x-sh",
   "name": "bash"
  }
 },
 "nbformat": 4,
 "nbformat_minor": 2
}
