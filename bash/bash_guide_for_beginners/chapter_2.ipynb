{
 "cells": [
  {
   "cell_type": "markdown",
   "metadata": {},
   "source": [
    "# Chapter 2 Exercise Answer*\n",
    "\n",
    "#### \\*) all answers are not checked, please make a pull request if the answer is incorrect."
   ]
  },
  {
   "cell_type": "markdown",
   "metadata": {},
   "source": [
    "## No. 1 and No. 2"
   ]
  },
  {
   "cell_type": "code",
   "execution_count": 1,
   "metadata": {},
   "outputs": [
    {
     "name": "stdout",
     "output_type": "stream",
     "text": [
      "My home directory is at: /home/jeffryangtoni\n",
      "My current terminal is xterm-256color\n",
      "List of runlevel 3 services:\n",
      "S01apport@\n",
      "S01binfmt-support@\n",
      "S01cgmanager@\n",
      "S01php7.0-fpm@\n",
      "S01rsyslog@\n",
      "S01supervisor@\n",
      "S01tlp@\n",
      "S01unattended-upgrades@\n",
      "S01uuidd@\n",
      "S01zookeeper@\n",
      "S02acpid@\n",
      "S02anacron@\n",
      "S02atd@\n",
      "S02cgproxy@\n",
      "S02cgroupfs-mount@\n",
      "S02cron@\n",
      "S02dbus@\n",
      "S02haveged@\n",
      "S02irqbalance@\n",
      "S02kerneloops@\n",
      "S02memcached@\n",
      "S02nginx@\n",
      "S02postgresql@\n",
      "S02rsync@\n",
      "S02schroot@\n",
      "S02smartmontools@\n",
      "S02speech-dispatcher@\n",
      "S02sysstat@\n",
      "S02thermald@\n",
      "S02virtlockd@\n",
      "S02virtlogd@\n",
      "S02whoopsie@\n",
      "S03avahi-daemon@\n",
      "S03bluetooth@\n",
      "S03docker@\n",
      "S03lightdm@\n",
      "S04cups@\n",
      "S04cups-browsed@\n",
      "S04libvirt-bin@\n",
      "S04saned@\n",
      "S05libvirt-guests@\n",
      "S06grub-common@\n",
      "S06ondemand@\n",
      "S06plymouth@\n",
      "S06rc.local@\n"
     ]
    }
   ],
   "source": [
    "# Turn off debug mode\n",
    "set +x\n",
    "\n",
    "# Print home directory\n",
    "echo \"My home directory is at: $HOME\"\n",
    "\n",
    "# Print current terminal\n",
    "echo \"My current terminal is $TERM\"\n",
    "\n",
    "# Print all the rc3 services\n",
    "echo \"List of runlevel 3 services:\"\n",
    "ls /etc/rc3.d/S* | cut -d '/' -f 4"
   ]
  },
  {
   "cell_type": "markdown",
   "metadata": {},
   "source": [
    "## No. 3"
   ]
  },
  {
   "cell_type": "code",
   "execution_count": 2,
   "metadata": {},
   "outputs": [
    {
     "name": "stdout",
     "output_type": "stream",
     "text": [
      "Current user: jeffryangtoni\n"
     ]
    }
   ],
   "source": [
    "echo \"Current user: $USER\""
   ]
  },
  {
   "cell_type": "markdown",
   "metadata": {},
   "source": [
    "## No. 4\n",
    "\n",
    "It can be done using `chmod +x script.sh`."
   ]
  },
  {
   "cell_type": "markdown",
   "metadata": {},
   "source": [
    "## No. 5\n",
    "\n",
    "For debugging, use `set -x`. Otherwise, `set +x` for normal mode."
   ]
  },
  {
   "cell_type": "markdown",
   "metadata": {},
   "source": [
    "## No. 6"
   ]
  },
  {
   "cell_type": "markdown",
   "metadata": {},
   "source": [
    "Turn on debug mode:"
   ]
  },
  {
   "cell_type": "code",
   "execution_count": 3,
   "metadata": {},
   "outputs": [
    {
     "ename": "",
     "evalue": "1",
     "output_type": "error",
     "traceback": []
    }
   ],
   "source": [
    "# to turn on, uncomment below\n",
    "set -x\n",
    "# to turn off, uncomment below\n",
    "#set +x"
   ]
  },
  {
   "cell_type": "markdown",
   "metadata": {},
   "source": [
    "When misspelling the command:"
   ]
  },
  {
   "cell_type": "code",
   "execution_count": 4,
   "metadata": {},
   "outputs": [
    {
     "name": "stdout",
     "output_type": "stream",
     "text": [
      "+ cdd /home/jeffryangtoni\n",
      "+ '[' -x /usr/lib/command-not-found ']'\n",
      "+ /usr/lib/command-not-found -- cdd\n",
      "No command 'cdd' found, did you mean:\n",
      " Command 'dd' from package 'coreutils' (main)\n",
      " Command 'cd5' from package 'cd5' (universe)\n",
      " Command 'cdw' from package 'cdw' (universe)\n",
      " Command 'cde' from package 'cde' (universe)\n",
      " Command 'cdo' from package 'cdo' (universe)\n",
      " Command 'cdde' from package 'cdde' (universe)\n",
      " Command 'tdd' from package 'devtodo' (universe)\n",
      " Command 'ddd' from package 'ddd' (universe)\n",
      " Command 'cdv' from package 'codeville' (universe)\n",
      " Command 'ldd' from package 'libc-bin' (main)\n",
      " Command 'cdi' from package 'cdo' (universe)\n",
      " Command 'cdcd' from package 'cdcd' (universe)\n",
      " Command 'cdp' from package 'irpas' (multiverse)\n",
      " Command 'cdb' from package 'tinycdb' (main)\n",
      "cdd: command not found\n",
      "+ return 127\n"
     ]
    },
    {
     "ename": "",
     "evalue": "1",
     "output_type": "error",
     "traceback": []
    }
   ],
   "source": [
    "cdd ~"
   ]
  },
  {
   "cell_type": "markdown",
   "metadata": {},
   "source": [
    "When misspelling shell variable: "
   ]
  },
  {
   "cell_type": "code",
   "execution_count": 5,
   "metadata": {},
   "outputs": [
    {
     "name": "stdout",
     "output_type": "stream",
     "text": [
      "+ echo\n",
      "\n"
     ]
    },
    {
     "ename": "",
     "evalue": "1",
     "output_type": "error",
     "traceback": []
    }
   ],
   "source": [
    "echo $USERS"
   ]
  },
  {
   "cell_type": "markdown",
   "metadata": {},
   "source": [
    "When left blank line on the first line:"
   ]
  },
  {
   "cell_type": "code",
   "execution_count": 6,
   "metadata": {},
   "outputs": [
    {
     "name": "stdout",
     "output_type": "stream",
     "text": [
      "+ TMP_FILE=tmp_script.sh\n",
      "+ [[ -f tmp_script.sh ]]\n",
      "+ tee tmp_script.sh\n",
      "# Blank Line here\n",
      "#!/bin/bash\n",
      "echo \"Hello World\"\n"
     ]
    },
    {
     "ename": "",
     "evalue": "1",
     "output_type": "error",
     "traceback": []
    }
   ],
   "source": [
    "TMP_FILE=\"tmp_script.sh\"\n",
    "if [[ -f ${TMP_FILE} ]]; then rm ${TMP_FILE}; fi \n",
    "tee ${TMP_FILE} << EOF\n",
    "# Blank Line here\n",
    "#!/bin/bash\n",
    "echo \"Hello World\"\n",
    "EOF"
   ]
  },
  {
   "cell_type": "code",
   "execution_count": 7,
   "metadata": {},
   "outputs": [
    {
     "name": "stdout",
     "output_type": "stream",
     "text": [
      "+ echo 'Give permission to the script'\n",
      "Give permission to the script\n",
      "+ chmod +x tmp_script.sh\n"
     ]
    },
    {
     "ename": "",
     "evalue": "1",
     "output_type": "error",
     "traceback": []
    }
   ],
   "source": [
    "echo \"Give permission to the script\"\n",
    "chmod +x ${TMP_FILE}"
   ]
  },
  {
   "cell_type": "code",
   "execution_count": 8,
   "metadata": {},
   "outputs": [
    {
     "name": "stdout",
     "output_type": "stream",
     "text": [
      "+ echo 'Execute script'\n",
      "Execute script\n",
      "+ ./tmp_script.sh\n",
      "Hello World\n",
      "+ [[ 0 -eq 0 ]]\n",
      "+ echo 'Hmm.. Fine... Nothing weird happened.'\n",
      "Hmm.. Fine... Nothing weird happened.\n"
     ]
    },
    {
     "ename": "",
     "evalue": "1",
     "output_type": "error",
     "traceback": []
    }
   ],
   "source": [
    "echo \"Execute script\"\n",
    "./${TMP_FILE}\n",
    "if [[ $? -eq 0 ]]; then\n",
    "    echo \"Hmm.. Fine... Nothing weird happened.\"\n",
    "else\n",
    "    echo \"Hmm.. Something bad happened.\"\n",
    "fi"
   ]
  },
  {
   "cell_type": "code",
   "execution_count": 9,
   "metadata": {},
   "outputs": [
    {
     "name": "stdout",
     "output_type": "stream",
     "text": [
      "+ echo 'Manually remove the temp_script from the repository' 'if git doesn'\\''t ignore this file.'\n",
      "Manually remove the temp_script from the repository if git doesn't ignore this file.\n",
      "+ [[ -f tmp_script.sh ]]\n",
      "+ rm tmp_script.sh\n"
     ]
    },
    {
     "ename": "",
     "evalue": "1",
     "output_type": "error",
     "traceback": []
    }
   ],
   "source": [
    "echo \"Manually remove the temp_script from the repository\" \\\n",
    "\"if git doesn't ignore this file.\"\n",
    "if [[ -f ${TMP_FILE} ]]; then rm ${TMP_FILE}; fi "
   ]
  }
 ],
 "metadata": {
  "kernelspec": {
   "display_name": "Bash",
   "language": "bash",
   "name": "bash"
  },
  "language_info": {
   "codemirror_mode": "shell",
   "file_extension": ".sh",
   "mimetype": "text/x-sh",
   "name": "bash"
  }
 },
 "nbformat": 4,
 "nbformat_minor": 2
}
