{
 "cells": [
  {
   "cell_type": "markdown",
   "metadata": {},
   "source": [
    "# Chapter 5 Exercise Answer*\n",
    "\n",
    "#### \\*) all answers are not checked, please make a pull request if the answer is incorrect."
   ]
  },
  {
   "cell_type": "markdown",
   "metadata": {},
   "source": [
    "## No. 1"
   ]
  },
  {
   "cell_type": "code",
   "execution_count": 1,
   "metadata": {},
   "outputs": [
    {
     "name": "stdout",
     "output_type": "stream",
     "text": [
      "mysystem.sh\n"
     ]
    }
   ],
   "source": [
    "# ls to your own directory which contains .sh file\n",
    "ls /home/jeffryangtoni/sources/github/sh-projects/bash-tut | sed -n '/\\.sh/p'"
   ]
  },
  {
   "cell_type": "markdown",
   "metadata": {},
   "source": [
    "## No. 2"
   ]
  },
  {
   "cell_type": "code",
   "execution_count": 2,
   "metadata": {},
   "outputs": [],
   "source": [
    "# list of files in /usr/bin those have 'a' in its second character.\n",
    "TMP_FILE=\"tmp_${RANDOM}\"\n",
    "ls /usr/bin | sed -n -r \"/^.(a)(.*)/p\" > ${TMP_FILE}"
   ]
  },
  {
   "cell_type": "markdown",
   "metadata": {},
   "source": [
    "## No. 3"
   ]
  },
  {
   "cell_type": "code",
   "execution_count": null,
   "metadata": {},
   "outputs": [],
   "source": [
    "# Delete first three lines of tmp file\n",
    "sed \"1,3d\" ${TMP_FILE}"
   ]
  },
  {
   "cell_type": "markdown",
   "metadata": {},
   "source": [
    "## No. 4"
   ]
  },
  {
   "cell_type": "code",
   "execution_count": null,
   "metadata": {},
   "outputs": [],
   "source": [
    "# Print to stdout with pattern \"an\"\n",
    "ls /usr/bin | sed -n \"/an/p\""
   ]
  },
  {
   "cell_type": "markdown",
   "metadata": {},
   "source": [
    "## No. 5"
   ]
  },
  {
   "cell_type": "code",
   "execution_count": 5,
   "metadata": {},
   "outputs": [
    {
     "name": "stdout",
     "output_type": "stream",
     "text": [
      "1,3d\n",
      "/an/p\n",
      "callgrind_annotate*\n",
      "canberra-gtk-play*\n",
      "cancel*\n",
      "*** This might have something to do with man and man pages ***\n",
      "catman*\n",
      "gamma4scanimage*\n",
      "*** This might have something to do with man and man pages ***\n",
      "man*\n",
      "*** This might have something to do with man and man pages ***\n",
      "mandb*\n",
      "*** This might have something to do with man and man pages ***\n",
      "manpage-alert*\n",
      "*** This might have something to do with man and man pages ***\n",
      "manpath*\n",
      "parsechangelog*\n",
      "ranlib@\n",
      "sane-find-scanner*\n",
      "sanstats-6.0@\n",
      "vagrant*\n"
     ]
    }
   ],
   "source": [
    "# Create sed command to do previous two task\n",
    "TMP_SED=\"tmp_sed_cmd\"\n",
    "tee ${TMP_SED} << EOF\n",
    "1,3d\n",
    "/an/p\n",
    "EOF\n",
    "\n",
    "# Add *** This might have something to do with man and man pages *** before man and execute sed command\n",
    "sed -nf ${TMP_SED} ${TMP_FILE} | sed \"/man/i\\*** This might have something to do with man and man pages ***\""
   ]
  },
  {
   "cell_type": "markdown",
   "metadata": {},
   "source": [
    "## No. 6"
   ]
  },
  {
   "cell_type": "code",
   "execution_count": 6,
   "metadata": {},
   "outputs": [
    {
     "name": "stdout",
     "output_type": "stream",
     "text": [
      "--This is a symlink--\n",
      "lrwxrwxrwx   1 root root     33 Mei 23 12:59 initrd.img -> boot/initrd.img-4.13.0-43-generic\n",
      "--This is a symlink--\n",
      "lrwxrwxrwx   1 root root     33 Mei 10 13:42 initrd.img.old -> boot/initrd.img-4.13.0-41-generic\n",
      "--This is a plain file--\n",
      "-rw-------   1 root root   1024 Mei 24 13:19 .rnd\n",
      "--This is a symlink--\n",
      "lrwxrwxrwx   1 root root     30 Mei 23 12:59 vmlinuz -> boot/vmlinuz-4.13.0-43-generic\n",
      "--This is a symlink--\n",
      "lrwxrwxrwx   1 root root     30 Mei 10 13:42 vmlinuz.old -> boot/vmlinuz-4.13.0-41-generic\n"
     ]
    }
   ],
   "source": [
    "# Check plain file and symlink from /\n",
    "ls -la / | grep ^[^d\\|tot] | sed -e '/^l/i\\--This is a symlink--' -e '/^-/i\\--This is a plain file--'"
   ]
  },
  {
   "cell_type": "markdown",
   "metadata": {},
   "source": [
    "## No. 7"
   ]
  },
  {
   "cell_type": "code",
   "execution_count": 7,
   "metadata": {},
   "outputs": [
    {
     "name": "stdout",
     "output_type": "stream",
     "text": [
      "1\n",
      "127.0.0.1\tlocalhost\n",
      "2\n",
      "127.0.1.1\teternalbox\n",
      "3\n",
      "\n",
      "4\n",
      "# The following lines are desirable for IPv6 capable hosts\n",
      "5\n",
      "::1     ip6-localhost ip6-loopback\n",
      "6\n",
      "fe00::0 ip6-localnet\n",
      "7\n",
      "ff00::0 ip6-mcastprefix\n",
      "8\n",
      "ff02::1 ip6-allnodes\n",
      "9\n",
      "ff02::2 ip6-allrouters\n"
     ]
    }
   ],
   "source": [
    "# Hmm.. Show line which consists of trailing whitespace.. I need someone to fix this script if wrong.\n",
    "sed -n '/[ \\t]*$/{=;p;}' /etc/hosts"
   ]
  },
  {
   "cell_type": "markdown",
   "metadata": {},
   "source": [
    "Below is the script to remove the tmp_* file generated from above scripts."
   ]
  },
  {
   "cell_type": "code",
   "execution_count": 8,
   "metadata": {},
   "outputs": [],
   "source": [
    "# Remove TMP_FILE\n",
    "rm ${TMP_FILE}\n",
    "\n",
    "# Remove TMP_SED\n",
    "rm ${TMP_SED}"
   ]
  }
 ],
 "metadata": {
  "kernelspec": {
   "display_name": "Bash",
   "language": "bash",
   "name": "bash"
  },
  "language_info": {
   "codemirror_mode": "shell",
   "file_extension": ".sh",
   "mimetype": "text/x-sh",
   "name": "bash"
  }
 },
 "nbformat": 4,
 "nbformat_minor": 2
}
