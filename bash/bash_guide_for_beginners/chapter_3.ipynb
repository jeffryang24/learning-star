{
 "cells": [
  {
   "cell_type": "markdown",
   "metadata": {},
   "source": [
    "# Chapter 3 Exercise Answer*\n",
    "\n",
    "#### \\*) all answers are not checked, please make a pull request if the answer is incorrect."
   ]
  },
  {
   "cell_type": "markdown",
   "metadata": {},
   "source": [
    "## No. 1"
   ]
  },
  {
   "cell_type": "code",
   "execution_count": 1,
   "metadata": {},
   "outputs": [],
   "source": [
    "# Create three variables: VAR1, VAR2, VAR3\n",
    "VAR1=\"thirteen\"\n",
    "VAR2=\"13\"\n",
    "VAR3=\"Happy Birthday\""
   ]
  },
  {
   "cell_type": "markdown",
   "metadata": {},
   "source": [
    "## No. 2"
   ]
  },
  {
   "cell_type": "code",
   "execution_count": 2,
   "metadata": {},
   "outputs": [
    {
     "name": "stdout",
     "output_type": "stream",
     "text": [
      "thirteen\n",
      "13\n",
      "Happy Birthday\n"
     ]
    }
   ],
   "source": [
    "# Display the variables respectively\n",
    "echo ${VAR1}\n",
    "echo ${VAR2}\n",
    "echo ${VAR3}"
   ]
  },
  {
   "cell_type": "markdown",
   "metadata": {},
   "source": [
    "## No. 3\n",
    "\n",
    "These are local variables."
   ]
  },
  {
   "cell_type": "markdown",
   "metadata": {},
   "source": [
    "## No. 4"
   ]
  },
  {
   "cell_type": "code",
   "execution_count": 3,
   "metadata": {},
   "outputs": [
    {
     "name": "stdout",
     "output_type": "stream",
     "text": [
      "VAR3 was vanished.\n",
      "\n",
      "== Testing echo ==\n",
      "thirteen\n",
      "13\n",
      "\n"
     ]
    }
   ],
   "source": [
    "# Remove VAR3\n",
    "unset VAR3\n",
    "\n",
    "# Make sure it was vanished\n",
    "if [[ -z ${VAR3} ]]; then\n",
    "    echo \"VAR3 was vanished.\"\n",
    "else\n",
    "    echo \"No. It should be vanished.\"\n",
    "fi\n",
    "\n",
    "# test echo ${VAR1..3}. It must be a blank line for VAR3.\n",
    "echo\n",
    "echo \"== Testing echo ==\"\n",
    "echo ${VAR1}\n",
    "echo ${VAR2}\n",
    "echo ${VAR3}"
   ]
  },
  {
   "cell_type": "markdown",
   "metadata": {},
   "source": [
    "## No. 5\n",
    "\n",
    "It must be **no**, because these are only local variables."
   ]
  },
  {
   "cell_type": "markdown",
   "metadata": {},
   "source": [
    "## No. 6\n",
    "\n",
    "Hmm.. I think I shall mock the **`etc/profile`** file for this question or I will broke my physical file. Hehehe... \n",
    "\n",
    "Oh yes, this file is only read by terminal when login into a system. So, you can test it using **`ssh`**.\n",
    "\n",
    "Hmm... I think I should call Python to do me a favour. Click <a href=\"chapter_3_py_support.ipynb\" target=\"_blank\">here</a>. After all finished, please come back here..."
   ]
  },
  {
   "cell_type": "code",
   "execution_count": 4,
   "metadata": {},
   "outputs": [],
   "source": [
    "# Define all variables\n",
    "ETC_PROFILE=\"tmp_profile\"\n",
    "SKEL_DIR=\"tmp_skel\""
   ]
  },
  {
   "cell_type": "code",
   "execution_count": 5,
   "metadata": {},
   "outputs": [],
   "source": [
    "# append greeting text to /etc/profile\n",
    "echo -e \"\\necho \\\"Test this\\\"\" >> ./${ETC_PROFILE}"
   ]
  },
  {
   "cell_type": "markdown",
   "metadata": {},
   "source": [
    "## No. 7\n",
    "\n",
    "You can change the prompt for root account by looking into the `temp_profile` file. Root account usually has uid 0, so change `PS1='# '` into `PS1=\"\\[\\033[32m\\]Danger!! root is doing stuff in \\w\"`.\n",
    "\n",
    "Or it can be automatically using `sed`."
   ]
  },
  {
   "cell_type": "code",
   "execution_count": 6,
   "metadata": {},
   "outputs": [],
   "source": [
    "# Replace PS1 using sed\n",
    "sed -i \"s/'# '/\\\"\\\\\\[\\\\\\033\\[32m\\\\\\]Danger\\!\\! root is doing stuff in \\\\\\w\\\"/\" ./${ETC_PROFILE}"
   ]
  },
  {
   "cell_type": "markdown",
   "metadata": {},
   "source": [
    "## No. 8\n",
    "\n",
    "You can do it by using **`useradd -m [username]`** command. If you edit the physical `/etc/profile` or `/etc/skel` dir, the new user configuration, such as `.bashrc` will follow your new configuration from these directory and files."
   ]
  },
  {
   "cell_type": "markdown",
   "metadata": {},
   "source": [
    "## No. 9"
   ]
  },
  {
   "cell_type": "code",
   "execution_count": 7,
   "metadata": {},
   "outputs": [
    {
     "name": "stdout",
     "output_type": "stream",
     "text": [
      "The width is 20\n",
      "The height is 35\n",
      "So, the surface of the rectangle is 110\n"
     ]
    }
   ],
   "source": [
    "# Set width and height\n",
    "WIDTH=20\n",
    "HEIGHT=35\n",
    "\n",
    "# Count\n",
    "echo \"The width is ${WIDTH}\"\n",
    "echo \"The height is ${HEIGHT}\"\n",
    "echo \"So, the surface of the rectangle is $(( 2 * (${WIDTH} + ${HEIGHT}) ))\""
   ]
  },
  {
   "cell_type": "markdown",
   "metadata": {},
   "source": [
    "**Don't forget to `chmod +x [script]` if you are creating your own script**"
   ]
  }
 ],
 "metadata": {
  "kernelspec": {
   "display_name": "Bash",
   "language": "bash",
   "name": "bash"
  },
  "language_info": {
   "codemirror_mode": "shell",
   "file_extension": ".sh",
   "mimetype": "text/x-sh",
   "name": "bash"
  }
 },
 "nbformat": 4,
 "nbformat_minor": 2
}
