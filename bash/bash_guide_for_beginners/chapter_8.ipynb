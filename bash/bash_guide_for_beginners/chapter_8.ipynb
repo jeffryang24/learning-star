{
 "cells": [
  {
   "cell_type": "markdown",
   "metadata": {},
   "source": [
    "# Chapter 8 Exercise Answer*\n",
    "\n",
    "#### \\*) all answers are not checked, please make a pull request if the answer is incorrect."
   ]
  },
  {
   "cell_type": "code",
   "execution_count": 6,
   "metadata": {},
   "outputs": [],
   "source": [
    "TMP_FILE=('tmp_cp8no1.sh' 'tmp_cp8no2.sh' 'tmp_cp8no3.sh' 'tmp_cp8no4.sh', 'tmp_cp8no5.sh')"
   ]
  },
  {
   "cell_type": "markdown",
   "metadata": {},
   "source": [
    "## No. 1"
   ]
  },
  {
   "cell_type": "code",
   "execution_count": 14,
   "metadata": {},
   "outputs": [
    {
     "name": "stdout",
     "output_type": "stream",
     "text": [
      "#!/usr/bin/env bash\n",
      "# Because jupyter notebook can't receive prompt, I will bypass it using \n",
      "# So, you can test it using ./tmp_cp8no1.sh [age]\n",
      "\n",
      "# Minimum age for consuming alcohol\n",
      "MIN_AGE=16\n",
      "\n",
      "if [[ -z $1 ]]; then \n",
      "    # Prompt user's age\n",
      "    read -p \"Input your age: \" USER_AGE\n",
      "else\n",
      "    USER_AGE=$1\n",
      "fi\n",
      "\n",
      "if [[ ${USER_AGE} -lt ${MIN_AGE} ]]; then\n",
      "    echo \"You need to wait $(( ${MIN_AGE} - ${USER_AGE} )) year(s) to consume this hell water.\"\n",
      "else\n",
      "    echo \"You are alowed to drink this hell water.\"\n",
      "fi\n",
      "\n",
      "# Statistic about 18+ alcoholic user\n",
      "# TODO Here\n"
     ]
    }
   ],
   "source": [
    "tee ${TMP_FILE[0]} << EOF\n",
    "#!/usr/bin/env bash\n",
    "# Because jupyter notebook can't receive prompt, I will bypass it using $1\n",
    "# So, you can test it using ./${TMP_FILE[0]} [age]\n",
    "\n",
    "# Minimum age for consuming alcohol\n",
    "MIN_AGE=16\n",
    "\n",
    "if [[ -z \\$1 ]]; then \n",
    "    # Prompt user's age\n",
    "    read -p \"Input your age: \" USER_AGE\n",
    "else\n",
    "    USER_AGE=\\$1\n",
    "fi\n",
    "\n",
    "if [[ \\${USER_AGE} -lt \\${MIN_AGE} ]]; then\n",
    "    echo \"You need to wait \\$(( \\${MIN_AGE} - \\${USER_AGE} )) year(s) to consume this hell water.\"\n",
    "else\n",
    "    echo \"You are alowed to drink this hell water.\"\n",
    "fi\n",
    "\n",
    "# Statistic about 18+ alcoholic user\n",
    "# TODO Here\n",
    "EOF\n",
    "\n",
    "# Give +x permission to script\n",
    "chmod +x ${TMP_FILE[0]}"
   ]
  },
  {
   "cell_type": "code",
   "execution_count": 13,
   "metadata": {},
   "outputs": [
    {
     "name": "stdout",
     "output_type": "stream",
     "text": [
      "==============================\n",
      "You need to wait 6 year(s) to consume this hell water.\n"
     ]
    }
   ],
   "source": [
    "# Test it\n",
    "./${TMP_FILE[0]} 10"
   ]
  },
  {
   "cell_type": "markdown",
   "metadata": {},
   "source": [
    "## No. 2"
   ]
  },
  {
   "cell_type": "code",
   "execution_count": 128,
   "metadata": {},
   "outputs": [
    {
     "name": "stdout",
     "output_type": "stream",
     "text": [
      "#!/usr/bin/env bash\n",
      "\n",
      "AVAILABLE_COMMAND=(gzip bzip2 compress zip)\n",
      "\n",
      "# Ensure  is present\n",
      "if [[ -z $1 ]]; then\n",
      "    echo \"Usage: ./tmp_cp8no2.sh [file1] [file2] [file-n] [compression-command]\"\n",
      "    echo \"Available command: gzip, bzip2, compress, zip.\"\n",
      "    exit 1\n",
      "fi\n",
      "\n",
      "function is_contain_command() {\n",
      "    for i in ${AVAILABLE_COMMAND[@]}; do\n",
      "        if [[ ${i} == $1 ]]; then\n",
      "            return 0\n",
      "        fi\n",
      "    done\n",
      "    return 1\n",
      "}\n",
      "\n",
      "# If user already specify compression-command from cli, then just set it.\n",
      "if [[ -z ${@:$#} ]]; then\n",
      "    echo \"Which one do you want to use?\"\n",
      "    # Use here document with <<-, to allow identation, but\n",
      "    # jupyter use space to indent, so I will place the DELIM to the first of line.\n",
      "    cat <<-DELIM\n",
      "        gzip\n",
      "        bzip2\n",
      "        compress\n",
      "        zip\n",
      "DELIM\n",
      "    read -p \"Your choice: \" USER_CHOICE\n",
      "else\n",
      "    # Get last parameter, it also can use ${@: -1}\n",
      "    USER_CHOICE=\"${@:$#}\"\n",
      "    if ! is_contain_command \"${USER_CHOICE}\" ; then\n",
      "        echo \"Unknown compression command.\"\n",
      "    else\n",
      "        echo \"${USER_CHOICE} selected.\"\n",
      "    fi\n",
      "fi\n",
      "\n",
      "# exec user choice\n",
      "${USER_CHOICE} ${@:1:$#-1}\n"
     ]
    }
   ],
   "source": [
    "# Create script\n",
    "tee ${TMP_FILE[1]} << EOF\n",
    "#!/usr/bin/env bash\n",
    "\n",
    "AVAILABLE_COMMAND=(gzip bzip2 compress zip)\n",
    "\n",
    "# Ensure $1 is present\n",
    "if [[ -z \\$1 ]]; then\n",
    "    echo \"Usage: ./${TMP_FILE[1]} [file1] [file2] [file-n] [compression-command]\"\n",
    "    echo \"Available command: gzip, bzip2, compress, zip.\"\n",
    "    exit 1\n",
    "fi\n",
    "\n",
    "function is_contain_command() {\n",
    "    for i in \\${AVAILABLE_COMMAND[@]}; do\n",
    "        if [[ \\${i} == \\$1 ]]; then\n",
    "            return 0\n",
    "        fi\n",
    "    done\n",
    "    return 1\n",
    "}\n",
    "\n",
    "# If user already specify compression-command from cli, then just set it.\n",
    "if [[ -z \\${@:\\$#} ]]; then\n",
    "    echo \"Which one do you want to use?\"\n",
    "    # Use here document with <<-, to allow identation, but\n",
    "    # jupyter use space to indent, so I will place the DELIM to the first of line.\n",
    "    cat <<-DELIM\n",
    "        gzip\n",
    "        bzip2\n",
    "        compress\n",
    "        zip\n",
    "DELIM\n",
    "    read -p \"Your choice: \" USER_CHOICE\n",
    "else\n",
    "    # Get last parameter, it also can use \\${@: -1}\n",
    "    USER_CHOICE=\"\\${@:\\$#}\"\n",
    "    if ! is_contain_command \"\\${USER_CHOICE}\" ; then\n",
    "        echo \"Unknown compression command.\"\n",
    "    else\n",
    "        echo \"\\${USER_CHOICE} selected.\"\n",
    "    fi\n",
    "fi\n",
    "\n",
    "# exec user choice\n",
    "\\${USER_CHOICE} \\${@:1:\\$#-1}\n",
    "EOF\n",
    "\n",
    "# Grant +x on the script\n",
    "chmod +x ${TMP_FILE[1]}"
   ]
  },
  {
   "cell_type": "code",
   "execution_count": 127,
   "metadata": {},
   "outputs": [
    {
     "name": "stdout",
     "output_type": "stream",
     "text": [
      "gzip selected.\n",
      "gzip: data2018-05-25: No such file or directory\n",
      "gzip: test: No such file or directory\n",
      "gzip: test2: No such file or directory\n",
      "gzip: test3: No such file or directory\n"
     ]
    },
    {
     "ename": "",
     "evalue": "1",
     "output_type": "error",
     "traceback": []
    }
   ],
   "source": [
    "# Test it\n",
    "./${TMP_FILE[1]} test test2 test3 gzip"
   ]
  },
  {
   "cell_type": "markdown",
   "metadata": {},
   "source": [
    "## No. 3"
   ]
  },
  {
   "cell_type": "code",
   "execution_count": 7,
   "metadata": {},
   "outputs": [
    {
     "name": "stdout",
     "output_type": "stream",
     "text": [
      "#!/usr/bin/env bash\n",
      "BACKUP_FOLDER='/var/backups'\n",
      "BACKUP_PREFIX=('full-bak' 'partial-bak')\n",
      "\n",
      "# Make sure this script doesn't expect any argument.\n",
      "if [[ ! -z $1 ]]; then\n",
      "    echo \"Usage: tmp_cp8no3.sh\"\n",
      "fi\n",
      "\n",
      "# Make backup folder if not exists\n",
      "if [[ ! -d ${BACKUP_FOLDER} ]]; then sudo mkdir -p ${BACKUP_FOLDER}; fi\n",
      "\n",
      "# Check current home directory size is lower than the available size.\n",
      "# If higher than the available size on backup directory, so the script will abort the action.\n",
      "function check_home_size() {\n",
      "    # Use sudo if there is root folder inside home directory. Remove it if not urgently needed.\n",
      "    HOME_DIR_SIZE=$(du -cs ~ | grep total | awk '{print }')\n",
      "    AVAILABLE_BACKUP_SIZE=$(df ${BACKUP_FOLDER} | tail -n 1 | awk '{print }')\n",
      "    \n",
      "    if (( ${HOME_DIR_SIZE} < ${AVAILABLE_BACKUP_SIZE} )); then\n",
      "        return 0\n",
      "    fi\n",
      "    \n",
      "    return 1\n",
      "}\n",
      "\n",
      "# Ask user want to use incremental backup or full backup\n",
      "if ! ls ${BACKUP_FOLDER} | grep ${BACKUP_PREFIX}; then\n",
      "    do_backup full\n",
      "else\n",
      "    read -p \"Do you want a full backup or incremental backup (if full backup is no longer than one week)? (full/incremental)[default: full]\" BACKUP_TYPE\n",
      "    # Todo Here: Research about incremental backup.\n",
      "    case \"${BACKUP_TYPE}\" in\n",
      "        full)\n",
      "            do_backup full\n",
      "            ;;\n",
      "        \n",
      "        incremental)\n",
      "            do_backup incremental\n",
      "            ;;\n",
      "            \n",
      "        *)\n",
      "            do_backup full\n",
      "            ;;\n",
      "    esac\n",
      "fi\n",
      "\n",
      "function do_backup() {\n",
      "    BACKUP_TYPE=\"$1\"\n",
      "    BACKUP_TIMESTAMP=`date \"+%s\"`\n",
      "    TAR=`which tar`\n",
      "    echo \"Please wait... This process takes much time as much your directory space.\"\n",
      "    if [[ ${BACKUP_TYPE} == \"full\" ]]; then\n",
      "        CURRENT_FILE=\"${BACKUP_PREFIX[0]}-${BACKUP_TIMESTAMP}.tar.gz\"\n",
      "        ${TAR} --listed-incremental \"${BACKUP_FOLDER}/backup.snar\" -czpf \"${CURRENT_FILE}\" \"/home/$USER\" \n",
      "        cp -f \"${BACKUP_FOLDER}/backup.snar\" \"${BACKUP_FOLDER}/backup-1.snar\" \n",
      "    elif [[  == \"incremental\" ]]; then\n",
      "        # Ignore this action if full backup is aged for more than a week.\n",
      "        FULL_BACKUP_LIST=`ls --time-style=+%s -lat ${BACKUP_FOLDER} | grep ${BACKUP_PREFIX[0]} | awk -v LAST_WEEK=`date --date=\"1 week ago\" +%s` '$6 > LAST_WEEK{print $7}'`\n",
      "        if [[ ! -z ${FULL_BACKUP_LIST} ]]; then\n",
      "            CURRENT_FILE=\"${BACKUP_PREFIX[1]}-${BACKUP_TIMESTAMP}.tar.gz\"\n",
      "            ${TAR} --listed-incremental \"${BACKUP_FOLDER}/backup-1.snar\" -czpf \"${CURRENT_FILE}\" \"/home/$USER\" \n",
      "        else\n",
      "            do_backup full\n",
      "        fi\n",
      "    fi\n",
      "    \n",
      "    echo \"Compressed size: $(wc -c < ${CURRENT_FILE})\"\n",
      "}\n"
     ]
    }
   ],
   "source": [
    "# Create script\n",
    "tee ${TMP_FILE[2]} << EOF\n",
    "#!/usr/bin/env bash\n",
    "BACKUP_FOLDER='/var/backups'\n",
    "BACKUP_PREFIX=('full-bak' 'partial-bak')\n",
    "\n",
    "# Make sure this script doesn't expect any argument.\n",
    "if [[ ! -z \\$1 ]]; then\n",
    "    echo \"Usage: ${TMP_FILE[2]}\"\n",
    "fi\n",
    "\n",
    "# Make backup folder if not exists\n",
    "if [[ ! -d \\${BACKUP_FOLDER} ]]; then sudo mkdir -p \\${BACKUP_FOLDER}; fi\n",
    "\n",
    "# Check current home directory size is lower than the available size.\n",
    "# If higher than the available size on backup directory, so the script will abort the action.\n",
    "function check_home_size() {\n",
    "    # Use sudo if there is root folder inside home directory. Remove it if not urgently needed.\n",
    "    HOME_DIR_SIZE=\\$(du -cs ~ | grep total | awk '{print $1}')\n",
    "    AVAILABLE_BACKUP_SIZE=\\$(df \\${BACKUP_FOLDER} | tail -n 1 | awk '{print $4}')\n",
    "    \n",
    "    if (( \\${HOME_DIR_SIZE} < \\${AVAILABLE_BACKUP_SIZE} )); then\n",
    "        return 0\n",
    "    fi\n",
    "    \n",
    "    return 1\n",
    "}\n",
    "\n",
    "# Ask user want to use incremental backup or full backup\n",
    "if ! ls \\${BACKUP_FOLDER} | grep \\${BACKUP_PREFIX}; then\n",
    "    do_backup full\n",
    "else\n",
    "    read -p \"Do you want a full backup or incremental backup (if full backup is no longer than one week)? (full/incremental)[default: full]\" BACKUP_TYPE\n",
    "    # Todo Here: Research about incremental backup.\n",
    "    case \"\\${BACKUP_TYPE}\" in\n",
    "        full)\n",
    "            do_backup full\n",
    "            ;;\n",
    "        \n",
    "        incremental)\n",
    "            do_backup incremental\n",
    "            ;;\n",
    "            \n",
    "        *)\n",
    "            do_backup full\n",
    "            ;;\n",
    "    esac\n",
    "fi\n",
    "\n",
    "function do_backup() {\n",
    "    BACKUP_TYPE=\"\\$1\"\n",
    "    BACKUP_TIMESTAMP=\\`date \"+%s\"\\`\n",
    "    TAR=\\`which tar\\`\n",
    "    echo \"Please wait... This process takes much time as much your directory space.\"\n",
    "    if [[ \\${BACKUP_TYPE} == \"full\" ]]; then\n",
    "        CURRENT_FILE=\"\\${BACKUP_PREFIX[0]}-\\${BACKUP_TIMESTAMP}.tar.gz\"\n",
    "        \\${TAR} --listed-incremental \"\\${BACKUP_FOLDER}/backup.snar\" -czpf \"\\${CURRENT_FILE}\" \"/home/\\$USER\" \n",
    "        cp -f \"\\${BACKUP_FOLDER}/backup.snar\" \"\\${BACKUP_FOLDER}/backup-1.snar\" \n",
    "    elif [[ ${BACKUP_TYPE} == \"incremental\" ]]; then\n",
    "        # Ignore this action if full backup is aged for more than a week.\n",
    "        FULL_BACKUP_LIST=\\`ls --time-style=+%s -lat \\${BACKUP_FOLDER} | grep \\${BACKUP_PREFIX[0]} | awk -v LAST_WEEK=\\`date --date=\"1 week ago\" +%s\\` '\\$6 > LAST_WEEK{print \\$7}'\\`\n",
    "        if [[ ! -z \\${FULL_BACKUP_LIST} ]]; then\n",
    "            CURRENT_FILE=\"\\${BACKUP_PREFIX[1]}-\\${BACKUP_TIMESTAMP}.tar.gz\"\n",
    "            \\${TAR} --listed-incremental \"\\${BACKUP_FOLDER}/backup-1.snar\" -czpf \"\\${CURRENT_FILE}\" \"/home/\\$USER\" \n",
    "        else\n",
    "            do_backup full\n",
    "        fi\n",
    "    fi\n",
    "    \n",
    "    echo \"Compressed size: \\$(wc -c < \\${CURRENT_FILE})\"\n",
    "}\n",
    "EOF\n",
    "\n",
    "# Give permission\n",
    "chmod +x ${TMP_FILE[2]}"
   ]
  },
  {
   "cell_type": "markdown",
   "metadata": {},
   "source": [
    "## No. 4"
   ]
  },
  {
   "cell_type": "code",
   "execution_count": 1,
   "metadata": {},
   "outputs": [
    {
     "name": "stdout",
     "output_type": "stream",
     "text": [
      "#!/usr/bin/env bash\n",
      "# Only one argument is accepted\n",
      "if (( $\\# > 1 )); then\n",
      "    echo \"Usage:  [username]\"\n",
      "    exit 1\n",
      "fi\n",
      "\n",
      "# Make sure $1 is not empty\n",
      "if [[ -z $1 ]]; then\n",
      "    echo \"Username can't be empty\"\n",
      "fi\n",
      "USERNAME=\"$1\"\n",
      "PASSWORD=\"1234\"\n",
      "useradd -m $USERNAME\n",
      "\n",
      "if [[ 1 == 0 ]]; then\n",
      "    # Set default password\n",
      "    echo $USERNAME:$PASSWORD | chpasswd\n",
      "fi\n",
      "\n",
      "echo \"Your default password: $PASSWORD\"\n",
      "echo \"Your UID: $(id $USERNAME -u) and GID: $(id $USERNAME -g)\"\n",
      "echo \"Your home directory is at: /home/$USERNAME\"\n",
      "exit 0\n",
      "chmod: missing operand after ‘+x’\n",
      "Try 'chmod --help' for more information.\n"
     ]
    },
    {
     "ename": "",
     "evalue": "1",
     "output_type": "error",
     "traceback": []
    }
   ],
   "source": [
    "# Create script\n",
    "tee ${TMP_FILE[3]} << EOF\n",
    "#!/usr/bin/env bash\n",
    "# Only one argument is accepted\n",
    "if (( \\$\\# > 1 )); then\n",
    "    echo \"Usage: ${TMP_FILE[3]} [username]\"\n",
    "    exit 1\n",
    "fi\n",
    "\n",
    "# Make sure \\$1 is not empty\n",
    "if [[ -z \\$1 ]]; then\n",
    "    echo \"Username can't be empty\"\n",
    "fi\n",
    "USERNAME=\"\\$1\"\n",
    "PASSWORD=\"1234\"\n",
    "useradd -m \\$USERNAME\n",
    "\n",
    "if [[ $? == 0 ]]; then\n",
    "    # Set default password\n",
    "    echo \\$USERNAME:\\$PASSWORD | chpasswd\n",
    "fi\n",
    "\n",
    "echo \"Your default password: \\$PASSWORD\"\n",
    "echo \"Your UID: \\$(id \\$USERNAME -u) and GID: \\$(id \\$USERNAME -g)\"\n",
    "echo \"Your home directory is at: /home/\\$USERNAME\"\n",
    "exit 0\n",
    "EOF\n",
    "\n",
    "# Grant +x permission\n",
    "chmod +x ${TMP_FILE[3]}"
   ]
  },
  {
   "cell_type": "markdown",
   "metadata": {},
   "source": [
    "## No. 5"
   ]
  },
  {
   "cell_type": "code",
   "execution_count": 5,
   "metadata": {},
   "outputs": [
    {
     "name": "stdout",
     "output_type": "stream",
     "text": [
      "\n",
      "#!/bin/bash\n",
      "\n",
      "# This script gives information about a file.\n",
      "\n",
      "read -p \"Enter a filename (ex. /home/user1/.bashrc): \" FILENAME\n",
      "\n",
      "echo \"Properties for $FILENAME:\"\n",
      "\n",
      "if [ -f $FILENAME ]; then\n",
      "  echo \"Size is $(ls -lh $FILENAME | awk '{ print  }')\"\n",
      "  echo \"Type is $(file $FILENAME | cut -d\":\" -f2 -)\"\n",
      "  echo \"Inode number is $(ls -i $FILENAME | cut -d\" \" -f1 -)\"\n",
      "  echo \"$(df -h $FILENAME | grep -v Mounted | awk '{ print \"On\",$1\", which is mounted as the\",$6,\"partition.\"}')\"\n",
      "else\n",
      "  echo \"File does not exist.\"\n",
      "fi\n"
     ]
    }
   ],
   "source": [
    "# Add script\n",
    "tee ${TMP_FILE[4]} << EOF\n",
    "\n",
    "#!/bin/bash\n",
    "\n",
    "# This script gives information about a file.\n",
    "\n",
    "read -p \"Enter a filename (ex. /home/user1/.bashrc): \" FILENAME\n",
    "\n",
    "echo \"Properties for \\$FILENAME:\"\n",
    "\n",
    "if [ -f \\$FILENAME ]; then\n",
    "  echo \"Size is \\$(ls -lh \\$FILENAME | awk '{ print $5 }')\"\n",
    "  echo \"Type is \\$(file \\$FILENAME | cut -d\":\" -f2 -)\"\n",
    "  echo \"Inode number is \\$(ls -i \\$FILENAME | cut -d\" \" -f1 -)\"\n",
    "  echo \"\\$(df -h \\$FILENAME | grep -v Mounted | awk '{ print \"On\",\\$1\", \\\n",
    "which is mounted as the\",\\$6,\"partition.\"}')\"\n",
    "else\n",
    "  echo \"File does not exist.\"\n",
    "fi\n",
    "EOF\n",
    "\n",
    "# Grant +x permission\n",
    "chmod +x ${TMP_FILE[4]}"
   ]
  },
  {
   "cell_type": "code",
   "execution_count": 6,
   "metadata": {},
   "outputs": [
    {
     "name": "stdout",
     "output_type": "stream",
     "text": [
      "Enter a filename (ex. /home/user1/.bashrc): "
     ]
    }
   ],
   "source": [
    "# Test it\n",
    "./${TMP_FILE[4]}"
   ]
  },
  {
   "cell_type": "markdown",
   "metadata": {},
   "source": [
    "### Removal Script"
   ]
  },
  {
   "cell_type": "code",
   "execution_count": null,
   "metadata": {},
   "outputs": [],
   "source": [
    "for i in ${TMP_FILE[@]}; do\n",
    "    rm ${i} && echo \"File ${i} has been successfully deleted.\"\n",
    "done"
   ]
  }
 ],
 "metadata": {
  "kernelspec": {
   "display_name": "Bash",
   "language": "bash",
   "name": "bash"
  },
  "language_info": {
   "codemirror_mode": "shell",
   "file_extension": ".sh",
   "mimetype": "text/x-sh",
   "name": "bash"
  }
 },
 "nbformat": 4,
 "nbformat_minor": 2
}
